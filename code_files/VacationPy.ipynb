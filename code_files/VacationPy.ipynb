{
 "cells": [
  {
   "cell_type": "markdown",
   "metadata": {},
   "source": [
    "# VacationPy\n",
    "----\n",
    "\n",
    "#### Note\n",
    "* Keep an eye on your API usage. Use https://developers.google.com/maps/reporting/gmp-reporting as reference for how to monitor your usage and billing.\n",
    "\n",
    "* Instructions have been included for each segment. You do not have to follow them exactly, but they are included to help you think through the steps."
   ]
  },
  {
   "cell_type": "code",
   "execution_count": 1,
   "metadata": {},
   "outputs": [],
   "source": [
    "# Dependencies and Setup\n",
    "import matplotlib.pyplot as plt\n",
    "import pandas as pd\n",
    "import numpy as np\n",
    "import requests\n",
    "import gmaps\n",
    "import os\n",
    "from pprint import pprint\n",
    "\n",
    "# Import API key\n",
    "from api_keys import g_key"
   ]
  },
  {
   "cell_type": "markdown",
   "metadata": {},
   "source": [
    "### Store Part I results into DataFrame\n",
    "* Load the csv exported in Part I to a DataFrame"
   ]
  },
  {
   "cell_type": "code",
   "execution_count": 2,
   "metadata": {},
   "outputs": [
    {
     "data": {
      "text/html": [
       "<div>\n",
       "<style scoped>\n",
       "    .dataframe tbody tr th:only-of-type {\n",
       "        vertical-align: middle;\n",
       "    }\n",
       "\n",
       "    .dataframe tbody tr th {\n",
       "        vertical-align: top;\n",
       "    }\n",
       "\n",
       "    .dataframe thead th {\n",
       "        text-align: right;\n",
       "    }\n",
       "</style>\n",
       "<table border=\"1\" class=\"dataframe\">\n",
       "  <thead>\n",
       "    <tr style=\"text-align: right;\">\n",
       "      <th></th>\n",
       "      <th>City</th>\n",
       "      <th>Lat</th>\n",
       "      <th>Lng</th>\n",
       "      <th>Max Temp</th>\n",
       "      <th>Humidity</th>\n",
       "      <th>Cloudiness</th>\n",
       "      <th>Wind Speed</th>\n",
       "      <th>Country</th>\n",
       "      <th>Date</th>\n",
       "    </tr>\n",
       "  </thead>\n",
       "  <tbody>\n",
       "    <tr>\n",
       "      <th>0</th>\n",
       "      <td>Hithadhoo</td>\n",
       "      <td>-0.6000</td>\n",
       "      <td>73.0833</td>\n",
       "      <td>82.99</td>\n",
       "      <td>68</td>\n",
       "      <td>5</td>\n",
       "      <td>7.18</td>\n",
       "      <td>MV</td>\n",
       "      <td>1619312286</td>\n",
       "    </tr>\n",
       "    <tr>\n",
       "      <th>1</th>\n",
       "      <td>Nuuk</td>\n",
       "      <td>64.1835</td>\n",
       "      <td>-51.7216</td>\n",
       "      <td>39.20</td>\n",
       "      <td>65</td>\n",
       "      <td>20</td>\n",
       "      <td>17.27</td>\n",
       "      <td>GL</td>\n",
       "      <td>1619312273</td>\n",
       "    </tr>\n",
       "    <tr>\n",
       "      <th>2</th>\n",
       "      <td>Busselton</td>\n",
       "      <td>-33.6500</td>\n",
       "      <td>115.3333</td>\n",
       "      <td>66.65</td>\n",
       "      <td>75</td>\n",
       "      <td>0</td>\n",
       "      <td>0.85</td>\n",
       "      <td>AU</td>\n",
       "      <td>1619312336</td>\n",
       "    </tr>\n",
       "    <tr>\n",
       "      <th>3</th>\n",
       "      <td>Manta</td>\n",
       "      <td>-0.9500</td>\n",
       "      <td>-80.7333</td>\n",
       "      <td>77.00</td>\n",
       "      <td>83</td>\n",
       "      <td>40</td>\n",
       "      <td>6.91</td>\n",
       "      <td>EC</td>\n",
       "      <td>1619312187</td>\n",
       "    </tr>\n",
       "    <tr>\n",
       "      <th>4</th>\n",
       "      <td>Atuona</td>\n",
       "      <td>-9.8000</td>\n",
       "      <td>-139.0333</td>\n",
       "      <td>80.76</td>\n",
       "      <td>72</td>\n",
       "      <td>90</td>\n",
       "      <td>15.64</td>\n",
       "      <td>PF</td>\n",
       "      <td>1619312337</td>\n",
       "    </tr>\n",
       "  </tbody>\n",
       "</table>\n",
       "</div>"
      ],
      "text/plain": [
       "        City      Lat       Lng  Max Temp  Humidity  Cloudiness  Wind Speed  \\\n",
       "0  Hithadhoo  -0.6000   73.0833     82.99        68           5        7.18   \n",
       "1       Nuuk  64.1835  -51.7216     39.20        65          20       17.27   \n",
       "2  Busselton -33.6500  115.3333     66.65        75           0        0.85   \n",
       "3      Manta  -0.9500  -80.7333     77.00        83          40        6.91   \n",
       "4     Atuona  -9.8000 -139.0333     80.76        72          90       15.64   \n",
       "\n",
       "  Country        Date  \n",
       "0      MV  1619312286  \n",
       "1      GL  1619312273  \n",
       "2      AU  1619312336  \n",
       "3      EC  1619312187  \n",
       "4      PF  1619312337  "
      ]
     },
     "execution_count": 2,
     "metadata": {},
     "output_type": "execute_result"
    }
   ],
   "source": [
    "# Import the Output File (CSV) from the WeatherPy previous activity\n",
    "input_df = pd.read_csv(\"../output_data/weather_df.csv\")\n",
    "input_df.head()"
   ]
  },
  {
   "cell_type": "markdown",
   "metadata": {},
   "source": [
    "### Humidity Heatmap\n",
    "* Configure gmaps.\n",
    "* Use the Lat and Lng as locations and Humidity as the weight.\n",
    "* Add Heatmap layer to map."
   ]
  },
  {
   "cell_type": "code",
   "execution_count": 3,
   "metadata": {},
   "outputs": [],
   "source": [
    "# Configure gmaps\n",
    "gmaps.configure(api_key=g_key)"
   ]
  },
  {
   "cell_type": "code",
   "execution_count": 4,
   "metadata": {},
   "outputs": [
    {
     "data": {
      "text/html": [
       "<div>\n",
       "<style scoped>\n",
       "    .dataframe tbody tr th:only-of-type {\n",
       "        vertical-align: middle;\n",
       "    }\n",
       "\n",
       "    .dataframe tbody tr th {\n",
       "        vertical-align: top;\n",
       "    }\n",
       "\n",
       "    .dataframe thead th {\n",
       "        text-align: right;\n",
       "    }\n",
       "</style>\n",
       "<table border=\"1\" class=\"dataframe\">\n",
       "  <thead>\n",
       "    <tr style=\"text-align: right;\">\n",
       "      <th></th>\n",
       "      <th>Lat</th>\n",
       "      <th>Lng</th>\n",
       "    </tr>\n",
       "  </thead>\n",
       "  <tbody>\n",
       "    <tr>\n",
       "      <th>0</th>\n",
       "      <td>-0.6000</td>\n",
       "      <td>73.0833</td>\n",
       "    </tr>\n",
       "    <tr>\n",
       "      <th>1</th>\n",
       "      <td>64.1835</td>\n",
       "      <td>-51.7216</td>\n",
       "    </tr>\n",
       "    <tr>\n",
       "      <th>2</th>\n",
       "      <td>-33.6500</td>\n",
       "      <td>115.3333</td>\n",
       "    </tr>\n",
       "    <tr>\n",
       "      <th>3</th>\n",
       "      <td>-0.9500</td>\n",
       "      <td>-80.7333</td>\n",
       "    </tr>\n",
       "    <tr>\n",
       "      <th>4</th>\n",
       "      <td>-9.8000</td>\n",
       "      <td>-139.0333</td>\n",
       "    </tr>\n",
       "  </tbody>\n",
       "</table>\n",
       "</div>"
      ],
      "text/plain": [
       "       Lat       Lng\n",
       "0  -0.6000   73.0833\n",
       "1  64.1835  -51.7216\n",
       "2 -33.6500  115.3333\n",
       "3  -0.9500  -80.7333\n",
       "4  -9.8000 -139.0333"
      ]
     },
     "execution_count": 4,
     "metadata": {},
     "output_type": "execute_result"
    }
   ],
   "source": [
    "# Store latitude and longitude in locations to use as a heatmap parameter\n",
    "locations = input_df[[\"Lat\",\"Lng\"]]\n",
    "locations.reset_index\n",
    "locations.head()"
   ]
  },
  {
   "cell_type": "code",
   "execution_count": 5,
   "metadata": {},
   "outputs": [
    {
     "name": "stdout",
     "output_type": "stream",
     "text": [
      "100\n"
     ]
    }
   ],
   "source": [
    "# Confirm Humidity is an integer\n",
    "input_df[\"Humidity\"].dtype\n",
    "\n",
    "# Find highest humidity for the max intensity\n",
    "\n",
    "max_humidity = input_df[\"Humidity\"].max()\n",
    "print(max_humidity)\n",
    "\n",
    "# Store humidity series as a variable to use as a heatmap parameter\n",
    "humidity = input_df[\"Humidity\"]"
   ]
  },
  {
   "cell_type": "code",
   "execution_count": 6,
   "metadata": {},
   "outputs": [
    {
     "data": {
      "application/vnd.jupyter.widget-view+json": {
       "model_id": "516edda6ba214ec99d1c8fe04e162d77",
       "version_major": 2,
       "version_minor": 0
      },
      "text/plain": [
       "Figure(layout=FigureLayout(height='420px'))"
      ]
     },
     "metadata": {},
     "output_type": "display_data"
    }
   ],
   "source": [
    "# Print the gmap\n",
    "fig = gmaps.figure()\n",
    "#fig\n",
    "\n",
    "# Create the heatmap layer\n",
    "heat_layer = gmaps.heatmap_layer(locations,\n",
    "                                 weights=humidity,\n",
    "                                 dissipating=False,\n",
    "                                 max_intensity=100,\n",
    "                                 point_radius=3                                \n",
    "                                )\n",
    "# Add heatmap layer\n",
    "fig.add_layer(heat_layer)\n",
    "\n",
    "# Display figure\n",
    "fig\n"
   ]
  },
  {
   "cell_type": "markdown",
   "metadata": {},
   "source": [
    "### Create new DataFrame fitting weather criteria\n",
    "* Narrow down the cities to fit weather conditions.\n",
    "* Drop any rows will null values."
   ]
  },
  {
   "cell_type": "code",
   "execution_count": 7,
   "metadata": {},
   "outputs": [
    {
     "data": {
      "text/html": [
       "<div>\n",
       "<style scoped>\n",
       "    .dataframe tbody tr th:only-of-type {\n",
       "        vertical-align: middle;\n",
       "    }\n",
       "\n",
       "    .dataframe tbody tr th {\n",
       "        vertical-align: top;\n",
       "    }\n",
       "\n",
       "    .dataframe thead th {\n",
       "        text-align: right;\n",
       "    }\n",
       "</style>\n",
       "<table border=\"1\" class=\"dataframe\">\n",
       "  <thead>\n",
       "    <tr style=\"text-align: right;\">\n",
       "      <th></th>\n",
       "      <th>City</th>\n",
       "      <th>Lat</th>\n",
       "      <th>Lng</th>\n",
       "      <th>Max Temp</th>\n",
       "      <th>Humidity</th>\n",
       "      <th>Cloudiness</th>\n",
       "      <th>Wind Speed</th>\n",
       "      <th>Country</th>\n",
       "      <th>Date</th>\n",
       "    </tr>\n",
       "  </thead>\n",
       "  <tbody>\n",
       "    <tr>\n",
       "      <th>72</th>\n",
       "      <td>Koungheul</td>\n",
       "      <td>13.9833</td>\n",
       "      <td>-14.8000</td>\n",
       "      <td>78.87</td>\n",
       "      <td>31</td>\n",
       "      <td>2</td>\n",
       "      <td>10.80</td>\n",
       "      <td>SN</td>\n",
       "      <td>1619312362</td>\n",
       "    </tr>\n",
       "    <tr>\n",
       "      <th>125</th>\n",
       "      <td>Alice Springs</td>\n",
       "      <td>-23.7000</td>\n",
       "      <td>133.8833</td>\n",
       "      <td>66.20</td>\n",
       "      <td>39</td>\n",
       "      <td>0</td>\n",
       "      <td>10.36</td>\n",
       "      <td>AU</td>\n",
       "      <td>1619312249</td>\n",
       "    </tr>\n",
       "    <tr>\n",
       "      <th>151</th>\n",
       "      <td>Cabo San Lucas</td>\n",
       "      <td>22.8909</td>\n",
       "      <td>-109.9124</td>\n",
       "      <td>79.00</td>\n",
       "      <td>27</td>\n",
       "      <td>1</td>\n",
       "      <td>9.22</td>\n",
       "      <td>MX</td>\n",
       "      <td>1619312387</td>\n",
       "    </tr>\n",
       "    <tr>\n",
       "      <th>190</th>\n",
       "      <td>Altus</td>\n",
       "      <td>34.6381</td>\n",
       "      <td>-99.3340</td>\n",
       "      <td>69.80</td>\n",
       "      <td>35</td>\n",
       "      <td>1</td>\n",
       "      <td>4.61</td>\n",
       "      <td>US</td>\n",
       "      <td>1619312401</td>\n",
       "    </tr>\n",
       "    <tr>\n",
       "      <th>598</th>\n",
       "      <td>Tharād</td>\n",
       "      <td>24.3961</td>\n",
       "      <td>71.6267</td>\n",
       "      <td>79.86</td>\n",
       "      <td>33</td>\n",
       "      <td>0</td>\n",
       "      <td>4.79</td>\n",
       "      <td>IN</td>\n",
       "      <td>1619312550</td>\n",
       "    </tr>\n",
       "    <tr>\n",
       "      <th>614</th>\n",
       "      <td>Jollyville</td>\n",
       "      <td>30.4427</td>\n",
       "      <td>-97.7750</td>\n",
       "      <td>78.80</td>\n",
       "      <td>38</td>\n",
       "      <td>1</td>\n",
       "      <td>6.91</td>\n",
       "      <td>US</td>\n",
       "      <td>1619312438</td>\n",
       "    </tr>\n",
       "  </tbody>\n",
       "</table>\n",
       "</div>"
      ],
      "text/plain": [
       "               City      Lat       Lng  Max Temp  Humidity  Cloudiness  \\\n",
       "72        Koungheul  13.9833  -14.8000     78.87        31           2   \n",
       "125   Alice Springs -23.7000  133.8833     66.20        39           0   \n",
       "151  Cabo San Lucas  22.8909 -109.9124     79.00        27           1   \n",
       "190           Altus  34.6381  -99.3340     69.80        35           1   \n",
       "598          Tharād  24.3961   71.6267     79.86        33           0   \n",
       "614      Jollyville  30.4427  -97.7750     78.80        38           1   \n",
       "\n",
       "     Wind Speed Country        Date  \n",
       "72        10.80      SN  1619312362  \n",
       "125       10.36      AU  1619312249  \n",
       "151        9.22      MX  1619312387  \n",
       "190        4.61      US  1619312401  \n",
       "598        4.79      IN  1619312550  \n",
       "614        6.91      US  1619312438  "
      ]
     },
     "execution_count": 7,
     "metadata": {},
     "output_type": "execute_result"
    }
   ],
   "source": [
    "# Get ideal weather condition rows in a new DF\n",
    "ideal_weather_df = input_df.loc[(input_df[\"Max Temp\"] > 65) & (input_df[\"Max Temp\"] < 82) \n",
    "                            & (input_df.Humidity > 20) & (input_df.Humidity < 50)\n",
    "                            & (input_df.Cloudiness < 10) & (input_df[\"Wind Speed\"] <15)\n",
    "                           ,:]\n",
    "ideal_weather_df"
   ]
  },
  {
   "cell_type": "markdown",
   "metadata": {},
   "source": [
    "### Hotel Map\n",
    "* Store into variable named `hotel_df`.\n",
    "* Add a \"Hotel Name\" column to the DataFrame.\n",
    "* Set parameters to search for hotels with 5000 meters.\n",
    "* Hit the Google Places API for each city's coordinates.\n",
    "* Store the first Hotel result into the DataFrame.\n",
    "* Plot markers on top of the heatmap."
   ]
  },
  {
   "cell_type": "code",
   "execution_count": 8,
   "metadata": {},
   "outputs": [
    {
     "name": "stdout",
     "output_type": "stream",
     "text": [
      "['BOA Agence Nguekhokh', 'DoubleTree by Hilton Hotel Alice Springs', 'Bahia Hotel & Beach House', 'Holiday Inn Express & Suites Altus', 'HOTEL DESERT INN THARAD', 'The Westin Austin at The Domain']\n"
     ]
    }
   ],
   "source": [
    "# Define base url\n",
    "base_url = \"https://maps.googleapis.com/maps/api/place/nearbysearch/json\"\n",
    "        \n",
    "# Define the keyword\n",
    "keyword = \"hotel\"\n",
    "\n",
    "# Define the type\n",
    "place_type = \"lodging\"\n",
    "\n",
    "# Define radius\n",
    "radius = 5000\n",
    "\n",
    "# Hotel list\n",
    "\n",
    "hotels_list = []\n",
    "\n",
    "# Iterate through the ideal_weather_df\n",
    "\n",
    "for index, row in ideal_weather_df.iterrows():\n",
    "    \n",
    "    # Grab lat and long for each row in the DF\n",
    "    lat = row[\"Lat\"]\n",
    "    lng = row[\"Lng\"]\n",
    "    \n",
    "    # Assemble url and make API request\n",
    "    response = requests.get(f\"\"\"\n",
    "                            {base_url}?location={lat},{lng}\n",
    "                            &radius={radius}\n",
    "                            &keyword={keyword}\n",
    "                            &type={place_type}\n",
    "                            &key={g_key}\"\"\").json()\n",
    "    # View json of first hotel from each row of the DF                       \n",
    "    #pprint(response[\"results\"][0][\"name\"])\n",
    "    # Parse json to find hotel\n",
    "    hotels_list.append(response[\"results\"][0][\"name\"])\n",
    "print(hotels_list)"
   ]
  },
  {
   "cell_type": "code",
   "execution_count": 9,
   "metadata": {},
   "outputs": [
    {
     "name": "stderr",
     "output_type": "stream",
     "text": [
      "<ipython-input-9-4cc927067276>:2: SettingWithCopyWarning: \n",
      "A value is trying to be set on a copy of a slice from a DataFrame.\n",
      "Try using .loc[row_indexer,col_indexer] = value instead\n",
      "\n",
      "See the caveats in the documentation: https://pandas.pydata.org/pandas-docs/stable/user_guide/indexing.html#returning-a-view-versus-a-copy\n",
      "  ideal_weather_df[\"Hotel Name\"] = hotels_list\n"
     ]
    },
    {
     "data": {
      "text/html": [
       "<div>\n",
       "<style scoped>\n",
       "    .dataframe tbody tr th:only-of-type {\n",
       "        vertical-align: middle;\n",
       "    }\n",
       "\n",
       "    .dataframe tbody tr th {\n",
       "        vertical-align: top;\n",
       "    }\n",
       "\n",
       "    .dataframe thead th {\n",
       "        text-align: right;\n",
       "    }\n",
       "</style>\n",
       "<table border=\"1\" class=\"dataframe\">\n",
       "  <thead>\n",
       "    <tr style=\"text-align: right;\">\n",
       "      <th></th>\n",
       "      <th>City</th>\n",
       "      <th>Country</th>\n",
       "      <th>Lat</th>\n",
       "      <th>Lng</th>\n",
       "      <th>Hotel Name</th>\n",
       "    </tr>\n",
       "  </thead>\n",
       "  <tbody>\n",
       "    <tr>\n",
       "      <th>72</th>\n",
       "      <td>Koungheul</td>\n",
       "      <td>SN</td>\n",
       "      <td>13.9833</td>\n",
       "      <td>-14.8000</td>\n",
       "      <td>BOA Agence Nguekhokh</td>\n",
       "    </tr>\n",
       "    <tr>\n",
       "      <th>125</th>\n",
       "      <td>Alice Springs</td>\n",
       "      <td>AU</td>\n",
       "      <td>-23.7000</td>\n",
       "      <td>133.8833</td>\n",
       "      <td>DoubleTree by Hilton Hotel Alice Springs</td>\n",
       "    </tr>\n",
       "    <tr>\n",
       "      <th>151</th>\n",
       "      <td>Cabo San Lucas</td>\n",
       "      <td>MX</td>\n",
       "      <td>22.8909</td>\n",
       "      <td>-109.9124</td>\n",
       "      <td>Bahia Hotel &amp; Beach House</td>\n",
       "    </tr>\n",
       "    <tr>\n",
       "      <th>190</th>\n",
       "      <td>Altus</td>\n",
       "      <td>US</td>\n",
       "      <td>34.6381</td>\n",
       "      <td>-99.3340</td>\n",
       "      <td>Holiday Inn Express &amp; Suites Altus</td>\n",
       "    </tr>\n",
       "    <tr>\n",
       "      <th>598</th>\n",
       "      <td>Tharād</td>\n",
       "      <td>IN</td>\n",
       "      <td>24.3961</td>\n",
       "      <td>71.6267</td>\n",
       "      <td>HOTEL DESERT INN THARAD</td>\n",
       "    </tr>\n",
       "    <tr>\n",
       "      <th>614</th>\n",
       "      <td>Jollyville</td>\n",
       "      <td>US</td>\n",
       "      <td>30.4427</td>\n",
       "      <td>-97.7750</td>\n",
       "      <td>The Westin Austin at The Domain</td>\n",
       "    </tr>\n",
       "  </tbody>\n",
       "</table>\n",
       "</div>"
      ],
      "text/plain": [
       "               City Country      Lat       Lng  \\\n",
       "72        Koungheul      SN  13.9833  -14.8000   \n",
       "125   Alice Springs      AU -23.7000  133.8833   \n",
       "151  Cabo San Lucas      MX  22.8909 -109.9124   \n",
       "190           Altus      US  34.6381  -99.3340   \n",
       "598          Tharād      IN  24.3961   71.6267   \n",
       "614      Jollyville      US  30.4427  -97.7750   \n",
       "\n",
       "                                   Hotel Name  \n",
       "72                       BOA Agence Nguekhokh  \n",
       "125  DoubleTree by Hilton Hotel Alice Springs  \n",
       "151                 Bahia Hotel & Beach House  \n",
       "190        Holiday Inn Express & Suites Altus  \n",
       "598                   HOTEL DESERT INN THARAD  \n",
       "614           The Westin Austin at The Domain  "
      ]
     },
     "execution_count": 9,
     "metadata": {},
     "output_type": "execute_result"
    }
   ],
   "source": [
    "# Add the hotels to the DF\n",
    "ideal_weather_df[\"Hotel Name\"] = hotels_list\n",
    "hotel_df = ideal_weather_df\n",
    "\n",
    "# Clean up the DF - drop columns we don't need anymore\n",
    "hotel_df = hotel_df.drop(columns=[\"Max Temp\", \"Humidity\", \"Cloudiness\", \"Wind Speed\", \"Date\"])\n",
    "\n",
    "# Clean up the DF - re-order the columns\n",
    "hotel_df = hotel_df[[\"City\", \"Country\", \"Lat\", \"Lng\", \"Hotel Name\"]]\n",
    "\n",
    "# Print the clean DF\n",
    "hotel_df"
   ]
  },
  {
   "cell_type": "code",
   "execution_count": 10,
   "metadata": {},
   "outputs": [],
   "source": [
    "# NOTE: Do not change any of the code in this cell\n",
    "\n",
    "# Using the template add the hotel marks to the heatmap\n",
    "info_box_template = \"\"\"\n",
    "<dl>\n",
    "<dt>Name</dt><dd>{Hotel Name}</dd>\n",
    "<dt>City</dt><dd>{City}</dd>\n",
    "<dt>Country</dt><dd>{Country}</dd>\n",
    "</dl>\n",
    "\"\"\"\n",
    "# Store the DataFrame Row\n",
    "# NOTE: be sure to update with your DataFrame name\n",
    "hotel_info = [info_box_template.format(**row) for index, row in hotel_df.iterrows()]\n",
    "locations = hotel_df[[\"Lat\", \"Lng\"]]"
   ]
  },
  {
   "cell_type": "code",
   "execution_count": 11,
   "metadata": {
    "scrolled": true
   },
   "outputs": [
    {
     "data": {
      "application/vnd.jupyter.widget-view+json": {
       "model_id": "2fbf35ea568a4cafb697ba94307696fb",
       "version_major": 2,
       "version_minor": 0
      },
      "text/plain": [
       "Figure(layout=FigureLayout(height='420px'))"
      ]
     },
     "metadata": {},
     "output_type": "display_data"
    }
   ],
   "source": [
    "# Add marker layer on top of heat map\n",
    "fig = gmaps.figure()\n",
    "\n",
    "marker_layer = gmaps.marker_layer(locations,\n",
    "                                  info_box_content=hotel_info)\n",
    "# Display figure\n",
    "fig.add_layer(heat_layer)\n",
    "fig.add_layer(marker_layer)\n",
    "fig"
   ]
  },
  {
   "cell_type": "code",
   "execution_count": null,
   "metadata": {},
   "outputs": [],
   "source": []
  }
 ],
 "metadata": {
  "kernelspec": {
   "display_name": "Python 3",
   "language": "python",
   "name": "python3"
  },
  "language_info": {
   "codemirror_mode": {
    "name": "ipython",
    "version": 3
   },
   "file_extension": ".py",
   "mimetype": "text/x-python",
   "name": "python",
   "nbconvert_exporter": "python",
   "pygments_lexer": "ipython3",
   "version": "3.8.5"
  },
  "latex_envs": {
   "LaTeX_envs_menu_present": true,
   "autoclose": false,
   "autocomplete": true,
   "bibliofile": "biblio.bib",
   "cite_by": "apalike",
   "current_citInitial": 1,
   "eqLabelWithNumbers": true,
   "eqNumInitial": 1,
   "hotkeys": {
    "equation": "Ctrl-E",
    "itemize": "Ctrl-I"
   },
   "labels_anchors": false,
   "latex_user_defs": false,
   "report_style_numbering": false,
   "user_envs_cfg": false
  }
 },
 "nbformat": 4,
 "nbformat_minor": 4
}
